{
 "cells": [
  {
   "cell_type": "markdown",
   "metadata": {
    "region_name": "md"
   },
   "source": [
    "# Online Purchase Propensity"
   ]
  },
  {
   "cell_type": "markdown",
   "metadata": {
    "region_name": "md"
   },
   "source": [
    "## Project Overview"
   ]
  },
  {
   "cell_type": "markdown",
   "metadata": {
    "region_name": "md"
   },
   "source": [
    "This [Kaggle](https://www.kaggle.com/benpowis/customer-propensity-to-purchase-data) dataset \n",
    "tracks a day's worth of user visits for a ficticious online retail website. 607055 rows, 25 \n",
    "columns, and (excluding \"UserID\") entirely composed of binary data. Features #2 through #24 track \n",
    "various user states and actions across the website, while #25 denotes whether the user session \n",
    "resulted in an order. The end goal is to prototype and fine tune a couple different machine \n",
    "learning models to predict user propensity to purchase for the client / website owner."
   ]
  },
  {
   "cell_type": "markdown",
   "metadata": {
    "region_name": "md"
   },
   "source": [
    "## Data Exploration"
   ]
  },
  {
   "cell_type": "code",
   "execution_count": 1,
   "metadata": {
    "execution": {
     "iopub.execute_input": "2021-07-11T05:49:16.390801Z",
     "iopub.status.busy": "2021-07-11T05:49:16.389608Z",
     "iopub.status.idle": "2021-07-11T05:49:17.710260Z",
     "shell.execute_reply": "2021-07-11T05:49:17.711194Z"
    },
    "lines_to_next_cell": 1
   },
   "outputs": [],
   "source": [
    "# module imports\n",
    "import matplotlib.pyplot as plt\n",
    "import numpy as np\n",
    "import pandas as pd\n",
    "import seaborn as sb\n",
    "from hyperopt import fmin, hp, STATUS_OK, tpe, Trials\n",
    "from imblearn.ensemble import BalancedRandomForestClassifier\n",
    "from IPython.display import Markdown, display\n",
    "from sklearn.metrics import classification_report, f1_score\n",
    "from sklearn.model_selection import StratifiedKFold\n",
    "from sklearn.naive_bayes import BernoulliNB\n",
    "from statsmodels.stats.outliers_influence import variance_inflation_factor"
   ]
  },
  {
   "cell_type": "code",
   "execution_count": 2,
   "metadata": {
    "execution": {
     "iopub.execute_input": "2021-07-11T05:49:17.716797Z",
     "iopub.status.busy": "2021-07-11T05:49:17.715601Z",
     "iopub.status.idle": "2021-07-11T05:49:17.718017Z",
     "shell.execute_reply": "2021-07-11T05:49:17.718945Z"
    },
    "lines_to_next_cell": 1
   },
   "outputs": [],
   "source": [
    "# markdown printer\n",
    "def printmd(text):\n",
    "    display(Markdown(text))"
   ]
  },
  {
   "cell_type": "code",
   "execution_count": 3,
   "metadata": {
    "execution": {
     "iopub.execute_input": "2021-07-11T05:49:17.725121Z",
     "iopub.status.busy": "2021-07-11T05:49:17.724055Z",
     "iopub.status.idle": "2021-07-11T05:49:18.850444Z",
     "shell.execute_reply": "2021-07-11T05:49:18.851394Z"
    }
   },
   "outputs": [
    {
     "data": {
      "text/markdown": [
       "**Train info:**"
      ],
      "text/plain": [
       "<IPython.core.display.Markdown object>"
      ]
     },
     "metadata": {},
     "output_type": "display_data"
    },
    {
     "name": "stdout",
     "output_type": "stream",
     "text": [
      "<class 'pandas.core.frame.DataFrame'>\n",
      "RangeIndex: 455401 entries, 0 to 455400\n",
      "Data columns (total 25 columns):\n",
      " #   Column                   Non-Null Count   Dtype \n",
      "---  ------                   --------------   ----- \n",
      " 0   UserID                   455401 non-null  object\n",
      " 1   basket_icon_click        455401 non-null  int64 \n",
      " 2   basket_add_list          455401 non-null  int64 \n",
      " 3   basket_add_detail        455401 non-null  int64 \n",
      " 4   sort_by                  455401 non-null  int64 \n",
      " 5   image_picker             455401 non-null  int64 \n",
      " 6   account_page_click       455401 non-null  int64 \n",
      " 7   promo_banner_click       455401 non-null  int64 \n",
      " 8   detail_wishlist_add      455401 non-null  int64 \n",
      " 9   list_size_dropdown       455401 non-null  int64 \n",
      " 10  closed_minibasket_click  455401 non-null  int64 \n",
      " 11  checked_delivery_detail  455401 non-null  int64 \n",
      " 12  checked_returns_detail   455401 non-null  int64 \n",
      " 13  sign_in                  455401 non-null  int64 \n",
      " 14  saw_checkout             455401 non-null  int64 \n",
      " 15  saw_sizecharts           455401 non-null  int64 \n",
      " 16  saw_delivery             455401 non-null  int64 \n",
      " 17  saw_account_upgrade      455401 non-null  int64 \n",
      " 18  saw_homepage             455401 non-null  int64 \n",
      " 19  device_mobile            455401 non-null  int64 \n",
      " 20  device_computer          455401 non-null  int64 \n",
      " 21  device_tablet            455401 non-null  int64 \n",
      " 22  returning_user           455401 non-null  int64 \n",
      " 23  loc_uk                   455401 non-null  int64 \n",
      " 24  ordered                  455401 non-null  int64 \n",
      "dtypes: int64(24), object(1)\n",
      "memory usage: 86.9+ MB\n",
      "None \n",
      "\n"
     ]
    },
    {
     "data": {
      "text/markdown": [
       "**Test info:**"
      ],
      "text/plain": [
       "<IPython.core.display.Markdown object>"
      ]
     },
     "metadata": {},
     "output_type": "display_data"
    },
    {
     "name": "stdout",
     "output_type": "stream",
     "text": [
      "<class 'pandas.core.frame.DataFrame'>\n",
      "RangeIndex: 151655 entries, 0 to 151654\n",
      "Data columns (total 25 columns):\n",
      " #   Column                   Non-Null Count   Dtype \n",
      "---  ------                   --------------   ----- \n",
      " 0   UserID                   151655 non-null  object\n",
      " 1   basket_icon_click        151655 non-null  int64 \n",
      " 2   basket_add_list          151655 non-null  int64 \n",
      " 3   basket_add_detail        151655 non-null  int64 \n",
      " 4   sort_by                  151655 non-null  int64 \n",
      " 5   image_picker             151655 non-null  int64 \n",
      " 6   account_page_click       151655 non-null  int64 \n",
      " 7   promo_banner_click       151655 non-null  int64 \n",
      " 8   detail_wishlist_add      151655 non-null  int64 \n",
      " 9   list_size_dropdown       151655 non-null  int64 \n",
      " 10  closed_minibasket_click  151655 non-null  int64 \n",
      " 11  checked_delivery_detail  151655 non-null  int64 \n",
      " 12  checked_returns_detail   151655 non-null  int64 \n",
      " 13  sign_in                  151655 non-null  int64 \n",
      " 14  saw_checkout             151655 non-null  int64 \n",
      " 15  saw_sizecharts           151655 non-null  int64 \n",
      " 16  saw_delivery             151655 non-null  int64 \n",
      " 17  saw_account_upgrade      151655 non-null  int64 \n",
      " 18  saw_homepage             151655 non-null  int64 \n",
      " 19  device_mobile            151655 non-null  int64 \n",
      " 20  device_computer          151655 non-null  int64 \n",
      " 21  device_tablet            151655 non-null  int64 \n",
      " 22  returning_user           151655 non-null  int64 \n",
      " 23  loc_uk                   151655 non-null  int64 \n",
      " 24  ordered                  151655 non-null  int64 \n",
      "dtypes: int64(24), object(1)\n",
      "memory usage: 28.9+ MB\n",
      "None\n"
     ]
    }
   ],
   "source": [
    "# importing data\n",
    "train = pd.read_csv('train.csv')\n",
    "test = pd.read_csv('test.csv')\n",
    "printmd('**Train info:**')\n",
    "print(train.info(), '\\n')\n",
    "printmd('**Test info:**')\n",
    "print(test.info())"
   ]
  },
  {
   "cell_type": "markdown",
   "metadata": {
    "region_name": "md"
   },
   "source": [
    "Both dataframes are quite clean, no missing or null values. Dropping the \"UserID\" column as it \n",
    "won't be needed in the remaining analysis."
   ]
  },
  {
   "cell_type": "code",
   "execution_count": 4,
   "metadata": {
    "execution": {
     "iopub.execute_input": "2021-07-11T05:49:18.924697Z",
     "iopub.status.busy": "2021-07-11T05:49:18.923500Z",
     "iopub.status.idle": "2021-07-11T05:49:18.925931Z",
     "shell.execute_reply": "2021-07-11T05:49:18.926877Z"
    }
   },
   "outputs": [],
   "source": [
    "# dropping userid\n",
    "train.drop(\"UserID\", axis = 1, inplace = True)\n",
    "test.drop(\"UserID\", axis = 1, inplace = True)"
   ]
  },
  {
   "cell_type": "code",
   "execution_count": 5,
   "metadata": {
    "execution": {
     "iopub.execute_input": "2021-07-11T05:49:18.933046Z",
     "iopub.status.busy": "2021-07-11T05:49:18.931875Z",
     "iopub.status.idle": "2021-07-11T05:49:19.022957Z",
     "shell.execute_reply": "2021-07-11T05:49:19.023747Z"
    }
   },
   "outputs": [
    {
     "data": {
      "text/markdown": [
       "**Train balance:**"
      ],
      "text/plain": [
       "<IPython.core.display.Markdown object>"
      ]
     },
     "metadata": {},
     "output_type": "display_data"
    },
    {
     "name": "stdout",
     "output_type": "stream",
     "text": [
      "0    0.958074\n",
      "1    0.041926\n",
      "Name: ordered, dtype: float64 \n",
      "\n"
     ]
    },
    {
     "data": {
      "text/markdown": [
       "**Test balance:**"
      ],
      "text/plain": [
       "<IPython.core.display.Markdown object>"
      ]
     },
     "metadata": {},
     "output_type": "display_data"
    },
    {
     "name": "stdout",
     "output_type": "stream",
     "text": [
      "0    1.0\n",
      "Name: ordered, dtype: float64\n"
     ]
    }
   ],
   "source": [
    "# class balances\n",
    "printmd('**Train balance:**')\n",
    "print(train.ordered.value_counts()/train.shape[0], '\\n')\n",
    "printmd('**Test balance:**')\n",
    "print(test.ordered.value_counts()/test.shape[0])"
   ]
  },
  {
   "cell_type": "markdown",
   "metadata": {
    "region_name": "md"
   },
   "source": [
    "This dataset suffers from a heavy class imbalance, something we will need to keep in mind \n",
    "when building predictive models sensitive to said imbalance. Note that the test dataset is \n",
    "composed entirely of \"0\" \"ordered\" instances. This won't have any serious impact on the model's \n",
    "predictive abilities, but it will likely impact our ability to assess said ability with certain \n",
    "metrics."
   ]
  },
  {
   "cell_type": "code",
   "execution_count": 6,
   "metadata": {
    "execution": {
     "iopub.execute_input": "2021-07-11T05:49:19.049622Z",
     "iopub.status.busy": "2021-07-11T05:49:19.048533Z",
     "iopub.status.idle": "2021-07-11T05:49:20.816316Z",
     "shell.execute_reply": "2021-07-11T05:49:20.817289Z"
    }
   },
   "outputs": [
    {
     "data": {
      "image/png": "[encoded data removed]",
      "text/plain": [
       "<Figure size 720x576 with 2 Axes>"
      ]
     },
     "metadata": {
      "needs_background": "light"
     },
     "output_type": "display_data"
    }
   ],
   "source": [
    "# correlation plot\n",
    "fig, ax = plt.subplots()\n",
    "fig.set_size_inches(10, 8)\n",
    "sb.heatmap(train.corr(), cmap = 'winter', ax = ax)\n",
    "ax.set_title('Column Correlation Matrix')\n",
    "plt.show()"
   ]
  },
  {
   "cell_type": "markdown",
   "metadata": {
    "region_name": "md"
   },
   "source": [
    "The above heatmap helps visualize predictor-predictor and predictor-response correlations at a \n",
    "glance. \"checked_delivery_detail\", \"sign_in\", and \"saw_checkout\" all show promising amounts of \n",
    "correlation with the response variable, albeit with similarly high levels of multicollinearity \n",
    "between themselves.\n",
    "\n",
    "A more quantitative method of assessing multicollinearity amongst the predictors would be to \n",
    "be to calculate variance inflation factors (VIFs)."
   ]
  },
  {
   "cell_type": "code",
   "execution_count": 7,
   "metadata": {
    "execution": {
     "iopub.execute_input": "2021-07-11T05:49:20.823799Z",
     "iopub.status.busy": "2021-07-11T05:49:20.822661Z",
     "iopub.status.idle": "2021-07-11T05:49:20.825031Z",
     "shell.execute_reply": "2021-07-11T05:49:20.825719Z"
    }
   },
   "outputs": [],
   "source": [
    "# x-y splits\n",
    "X_train = train.iloc[:, :-1]\n",
    "y_train = train['ordered']\n",
    "X_test = test.iloc[:, :-1]\n",
    "y_test = test['ordered']"
   ]
  },
  {
   "cell_type": "code",
   "execution_count": 8,
   "metadata": {
    "execution": {
     "iopub.execute_input": "2021-07-11T05:49:20.832312Z",
     "iopub.status.busy": "2021-07-11T05:49:20.831507Z",
     "iopub.status.idle": "2021-07-11T05:49:36.716834Z",
     "shell.execute_reply": "2021-07-11T05:49:36.717518Z"
    }
   },
   "outputs": [
    {
     "name": "stdout",
     "output_type": "stream",
     "text": [
      "                               vif\n",
      "col                               \n",
      "loc_uk                   14.688576\n",
      "device_mobile            11.780301\n",
      "sign_in                   9.786845\n",
      "saw_checkout              9.661590\n",
      "device_computer           3.687012\n",
      "device_tablet             3.110726\n",
      "returning_user            2.209838\n",
      "checked_delivery_detail   2.129950\n",
      "basket_icon_click         2.047719\n",
      "basket_add_detail         1.780923\n",
      "list_size_dropdown        1.765275\n",
      "basket_add_list           1.674745\n",
      "saw_homepage              1.579528\n",
      "sort_by                   1.185449\n",
      "closed_minibasket_click   1.151321\n",
      "image_picker              1.138775\n",
      "account_page_click        1.130253\n",
      "checked_returns_detail    1.075586\n",
      "saw_delivery              1.066949\n",
      "detail_wishlist_add       1.066770\n",
      "promo_banner_click        1.042587\n",
      "saw_account_upgrade       1.005718\n",
      "saw_sizecharts            1.001376\n"
     ]
    }
   ],
   "source": [
    "# calculating vifs\n",
    "vifs = pd.DataFrame(X_train.columns, columns = ['col'])\n",
    "vifs.loc[:, 'vif'] = [variance_inflation_factor(X_train.values, i) for i in range(X_train.shape[1])]\n",
    "vifs = vifs.sort_values('vif', ascending = False).set_index('col', drop = True)\n",
    "print(vifs)"
   ]
  },
  {
   "cell_type": "markdown",
   "metadata": {
    "region_name": "md"
   },
   "source": [
    "The top four variables in this list make up those first to be addressed: \"loc_uk\", \n",
    "\"device_mobile\", \"sign_in\", and \"saw_checkout\". For now, though, these variables will be left \n",
    "alone."
   ]
  },
  {
   "cell_type": "markdown",
   "metadata": {
    "region_name": "md"
   },
   "source": [
    "## Building Models"
   ]
  },
  {
   "cell_type": "markdown",
   "metadata": {
    "region_name": "md"
   },
   "source": [
    "### 1. BernoulliNB (bnb)"
   ]
  },
  {
   "cell_type": "markdown",
   "metadata": {
    "region_name": "md"
   },
   "source": [
    "The first model will serve as the baseline to beat, a derivative of the naive bayes theorem specifically for boolean \n",
    "features. For reasons covered later on, this model should perform well despite some hidden gotchas in this \n",
    "particular dataset."
   ]
  },
  {
   "cell_type": "code",
   "execution_count": 9,
   "metadata": {
    "execution": {
     "iopub.execute_input": "2021-07-11T05:49:36.720846Z",
     "iopub.status.busy": "2021-07-11T05:49:36.720142Z",
     "iopub.status.idle": "2021-07-11T05:49:37.318031Z",
     "shell.execute_reply": "2021-07-11T05:49:37.317505Z"
    },
    "lines_to_next_cell": 1
   },
   "outputs": [
    {
     "data": {
      "text/markdown": [
       "**Classification Report**"
      ],
      "text/plain": [
       "<IPython.core.display.Markdown object>"
      ]
     },
     "metadata": {},
     "output_type": "display_data"
    },
    {
     "name": "stdout",
     "output_type": "stream",
     "text": [
      "              precision    recall  f1-score   support\n",
      "\n",
      "           0     1.0000    0.9800    0.9899    151655\n",
      "           1     0.0000    0.0000    0.0000         0\n",
      "\n",
      "    accuracy                         0.9800    151655\n",
      "   macro avg     0.5000    0.4900    0.4950    151655\n",
      "weighted avg     1.0000    0.9800    0.9899    151655\n",
      "\n"
     ]
    }
   ],
   "source": [
    "# model construction\n",
    "bnb = BernoulliNB()\n",
    "bnb.fit(X_train, y_train)\n",
    "y_pred = bnb.predict(X_test)\n",
    "printmd('**Classification Report**')\n",
    "print(classification_report(y_test, y_pred, digits = 4, zero_division = 0))"
   ]
  },
  {
   "cell_type": "markdown",
   "metadata": {
    "region_name": "md"
   },
   "source": [
    "The impact of only having one class in the test dataset is evident in the class \"1\" f1 score (0) \n",
    "and macro average f1 score (.495). Both metrics suffer with no true positives for class \"1\"; \n",
    "false positives make up the only \"1\" class predictions and therefore tank precision and recall. \n",
    "For a better representation of predictive performance on a two-class test dataset, we turn to \n",
    "stratified cross validation of the training dataset."
   ]
  },
  {
   "cell_type": "code",
   "execution_count": 10,
   "metadata": {
    "execution": {
     "iopub.execute_input": "2021-07-11T05:49:37.325625Z",
     "iopub.status.busy": "2021-07-11T05:49:37.324789Z",
     "iopub.status.idle": "2021-07-11T05:49:37.326987Z",
     "shell.execute_reply": "2021-07-11T05:49:37.327644Z"
    },
    "lines_to_next_cell": 1
   },
   "outputs": [],
   "source": [
    "# validation function\n",
    "def model_validation(clf, X, y, format = 'report'):\n",
    "    '''\n",
    "    Stratified cross validation function, outputs either classification_report or f1_score.\n",
    "\n",
    "        Arguments:\n",
    "            clf (object): classifier, supports .fit / .predict\n",
    "            X (array): feature array, n x d\n",
    "            y (array): label array, n x 1\n",
    "            format (string): output format, 'report' or 'score'\n",
    "        \n",
    "        Returns:\n",
    "            result (string / float): validation metric, depends on format variable\n",
    "    '''\n",
    "    preds = []\n",
    "    tests = []\n",
    "    skf = StratifiedKFold(shuffle = True)\n",
    "    for train_ind, test_ind in skf.split(X, y):\n",
    "        train_X, test_X = X.values[train_ind], X.values[test_ind]\n",
    "        train_y, test_y = y[train_ind], y[test_ind]\n",
    "        clf.fit(train_X, train_y)\n",
    "        pred_y = clf.predict(test_X)\n",
    "        preds.append(pred_y)\n",
    "        tests.append(test_y)\n",
    "    if format == 'report':\n",
    "        result = classification_report(np.hstack(tests), np.hstack(preds), digits = 4)\n",
    "    else:\n",
    "        result = f1_score(np.hstack(tests), np.hstack(preds), average = 'macro')\n",
    "    return result"
   ]
  },
  {
   "cell_type": "code",
   "execution_count": 11,
   "metadata": {
    "execution": {
     "iopub.execute_input": "2021-07-11T05:49:37.332153Z",
     "iopub.status.busy": "2021-07-11T05:49:37.331328Z",
     "iopub.status.idle": "2021-07-11T05:49:40.026955Z",
     "shell.execute_reply": "2021-07-11T05:49:40.027654Z"
    }
   },
   "outputs": [
    {
     "data": {
      "text/markdown": [
       "**Classification Report**"
      ],
      "text/plain": [
       "<IPython.core.display.Markdown object>"
      ]
     },
     "metadata": {},
     "output_type": "display_data"
    },
    {
     "name": "stdout",
     "output_type": "stream",
     "text": [
      "              precision    recall  f1-score   support\n",
      "\n",
      "           0     0.9997    0.9810    0.9903    436308\n",
      "           1     0.6959    0.9927    0.8182     19093\n",
      "\n",
      "    accuracy                         0.9815    455401\n",
      "   macro avg     0.8478    0.9869    0.9042    455401\n",
      "weighted avg     0.9869    0.9815    0.9830    455401\n",
      "\n"
     ]
    }
   ],
   "source": [
    "# bernoulli validation\n",
    "printmd('**Classification Report**')\n",
    "bnb = BernoulliNB()\n",
    "print(model_validation(bnb, X_train, y_train))"
   ]
  },
  {
   "cell_type": "markdown",
   "metadata": {
    "region_name": "md"
   },
   "source": [
    "Now that the naive bayes model is predicting on instances from both classes, we get a more \n",
    "realistic look at predictive performance. Our cross validated model's precision for class \"1\" \n",
    "does leave something to be desired, something we hope to improve with another model. \n",
    "\n",
    "One quick note, above it was mentioned that the heavy class imbalance would impact models \n",
    "sensitive to said imbalance. BernoulliNB is a probabilistic, binary classification model (in this \n",
    "specific instance), and therefore is mostly unaffected. Any deterministic models we attempt to \n",
    "implement will need to take steps to address this imbalance."
   ]
  },
  {
   "cell_type": "markdown",
   "metadata": {
    "region_name": "md"
   },
   "source": [
    "### 2. BalancedRandomForestClassifier (brf)\n",
    "\n",
    "Enter \"imbalanced-learn\" (also \"imblearn\"), a Python library built for the explicit purpose \n",
    "of dealing with class imbalanced datasets. Touted for it's high degree of compatibility with \n",
    "scikit-learn, \"imbalanced-learn\" contains a hodge podge of resampling and \n",
    "sklearn-wrapped methods tailor-built for handling unbalanced datasets.\n",
    "\n",
    "In contrast to sklearn's RandomForestClassifier, brf includes parameters to control random \n",
    "undersampling. Each weak learner in the bagged model is trained on an undersampled (with \n",
    "replacement) subset of the original dataset, albeit with a more favorable / equal balance of \n",
    "classes."
   ]
  },
  {
   "cell_type": "code",
   "execution_count": 12,
   "metadata": {
    "execution": {
     "iopub.execute_input": "2021-07-11T05:49:40.035155Z",
     "iopub.status.busy": "2021-07-11T05:49:40.034279Z",
     "iopub.status.idle": "2021-07-11T05:49:40.036328Z",
     "shell.execute_reply": "2021-07-11T05:49:40.037116Z"
    },
    "lines_to_next_cell": 1
   },
   "outputs": [],
   "source": [
    "# parameter space\n",
    "params = {\n",
    "    'n_estimators': hp.quniform('n_estimators', 20, 80, 1),\n",
    "    'max_depth': hp.quniform('max_depth', 1, 15, 1),\n",
    "    'min_samples_split': hp.quniform('min_samples_split', 2, 50, 1),\n",
    "    'max_features': hp.quniform('max_features', 1, 23, 1),\n",
    "    'sampling_strategy': hp.choice('sampling_strategy', ['majority', 'not minority', 'not majority', 'all']),\n",
    "    'replacement': hp.choice('replacement', ['True', 'False']),\n",
    "    'class_weight': hp.choice('class_weight', [None, 'balanced', 'balanced_subsample'])\n",
    "}"
   ]
  },
  {
   "cell_type": "code",
   "execution_count": 13,
   "metadata": {
    "execution": {
     "iopub.execute_input": "2021-07-11T05:49:40.043240Z",
     "iopub.status.busy": "2021-07-11T05:49:40.042310Z",
     "iopub.status.idle": "2021-07-11T05:49:40.044543Z",
     "shell.execute_reply": "2021-07-11T05:49:40.045336Z"
    },
    "lines_to_next_cell": 1
   },
   "outputs": [],
   "source": [
    "# optimization function\n",
    "def objective(params):\n",
    "    keys = list(params.keys())\n",
    "    floats = ['n_estimators', 'max_depth', 'min_samples_split', 'max_features']\n",
    "    params = {k:(int(params[k]) if k in floats else params[k]) for k in keys}\n",
    "    brf = BalancedRandomForestClassifier(**params, n_jobs = -1, random_state = 42)\n",
    "    score = model_validation(brf, X_train, y_train, 'score')\n",
    "    return {'loss': -score, 'status': STATUS_OK}"
   ]
  },
  {
   "cell_type": "markdown",
   "metadata": {
    "region_name": "md"
   },
   "source": [
    "To eke out as much predictive performance as possible, we will be relying on HyperOpt for some\n",
    "hyperparameter tuning. The fmin function below will test various combinations of \n",
    "hyperparameters from a pre-defined parameter space, using outcomes to guide it to the optimal \n",
    "set. Compared to GridSearch and RandomSearch, this translates to less time spent testing \n",
    "conditions with low chances of improving performance. "
   ]
  },
  {
   "cell_type": "code",
   "execution_count": 14,
   "metadata": {
    "execution": {
     "iopub.execute_input": "2021-07-11T05:49:40.058339Z",
     "iopub.status.busy": "2021-07-11T05:49:40.057659Z",
     "iopub.status.idle": "2021-07-11T06:02:37.634735Z",
     "shell.execute_reply": "2021-07-11T06:02:37.635736Z"
    }
   },
   "outputs": [
    {
     "name": "stdout",
     "output_type": "stream",
     "text": [
      "100%|██████████| 50/50 [12:57<00:00, 15.55s/trial, best loss: -0.9601817235826953]\n"
     ]
    },
    {
     "data": {
      "text/markdown": [
       "**Best Parameters**"
      ],
      "text/plain": [
       "<IPython.core.display.Markdown object>"
      ]
     },
     "metadata": {},
     "output_type": "display_data"
    },
    {
     "name": "stdout",
     "output_type": "stream",
     "text": [
      "{'class_weight': None, 'max_depth': 11, 'max_features': 4, 'min_samples_split': 23, 'n_estimators': 47, 'replacement': 'True', 'sampling_strategy': 'not majority'} \n",
      "\n"
     ]
    },
    {
     "data": {
      "text/markdown": [
       "**Best Macro F1 Score**"
      ],
      "text/plain": [
       "<IPython.core.display.Markdown object>"
      ]
     },
     "metadata": {},
     "output_type": "display_data"
    },
    {
     "name": "stdout",
     "output_type": "stream",
     "text": [
      "0.9601817235826953\n"
     ]
    }
   ],
   "source": [
    "# tuning model\n",
    "trials = Trials()\n",
    "best = fmin(fn = objective, space = params, algo = tpe.suggest, max_evals = 50, trials = trials)\n",
    "sampling_strategy = ['majority', 'not minority', 'not majority', 'all']\n",
    "replacement = ['True', 'False']\n",
    "class_weight = [None, 'balanced', 'balanced_subsample']\n",
    "for name in ['sampling_strategy', 'replacement', 'class_weight']:\n",
    "    best[name] = eval(f'{name}[best[name]]')\n",
    "for name in ['n_estimators', 'max_depth', 'min_samples_split', 'max_features']:\n",
    "    best[name] = int(best[name])\n",
    "printmd('**Best Parameters**')\n",
    "print(best, '\\n')\n",
    "printmd('**Best Macro F1 Score**')\n",
    "print(-trials.best_trial['result']['loss'])"
   ]
  },
  {
   "cell_type": "markdown",
   "metadata": {
    "region_name": "md"
   },
   "source": [
    "This second model and macro f1 score mark an improvement of ~.055 over the previous. Let's \n",
    "generate a classification report so we can compare per class f1 scores."
   ]
  },
  {
   "cell_type": "code",
   "execution_count": 15,
   "metadata": {
    "execution": {
     "iopub.execute_input": "2021-07-11T06:02:37.643268Z",
     "iopub.status.busy": "2021-07-11T06:02:37.642476Z",
     "iopub.status.idle": "2021-07-11T06:02:46.422700Z",
     "shell.execute_reply": "2021-07-11T06:02:46.423720Z"
    }
   },
   "outputs": [
    {
     "data": {
      "text/markdown": [
       "**Classification Report**"
      ],
      "text/plain": [
       "<IPython.core.display.Markdown object>"
      ]
     },
     "metadata": {},
     "output_type": "display_data"
    },
    {
     "name": "stdout",
     "output_type": "stream",
     "text": [
      "              precision    recall  f1-score   support\n",
      "\n",
      "           0     0.9994    0.9934    0.9964    436308\n",
      "           1     0.8676    0.9874    0.9236     19093\n",
      "\n",
      "    accuracy                         0.9932    455401\n",
      "   macro avg     0.9335    0.9904    0.9600    455401\n",
      "weighted avg     0.9939    0.9932    0.9934    455401\n",
      "\n"
     ]
    }
   ],
   "source": [
    "# model report\n",
    "brf = BalancedRandomForestClassifier(**best, n_jobs = -1, random_state = 42)\n",
    "printmd('**Classification Report**')\n",
    "print(model_validation(brf, X_train, y_train))"
   ]
  },
  {
   "cell_type": "markdown",
   "metadata": {
    "region_name": "md"
   },
   "source": [
    "## Closing Thoughts"
   ]
  },
  {
   "cell_type": "markdown",
   "metadata": {
    "region_name": "md"
   },
   "source": [
    "Swapping models resulted in f1 score net-positive changes for both classes, though only minimally \n",
    "so for class \"0\". The gains for class \"1\" were in precision, meaning more correct \"1\" predictions \n",
    "per overall \"1\" predictions; recall did suffer, but only minimally so. In a business context this \n",
    "would means fewer false positives and more false negatives, respectively, but in general better \n",
    "predictive abilities for class \"1\". Depending on client requirements these specific models could \n",
    "be re-weighted, though the end result would be a trade off between each class' predictive power.\n",
    "\n",
    "Further exploration, post-project, would be to investigate more computationally complex models; \n",
    "XGBoost, LightGBM, and Catboost come to mind."
   ]
  }
 ],
 "metadata": {
  "interpreter": {
   "hash": "a011a4f2480411cb5b783cb926da2fb11dad82886afea6ea3593c3d7d2d65e29"
  },
  "jupytext": {
   "formats": "ipynb,py:percent",
   "main_language": "python"
  },
  "kernelspec": {
   "display_name": "Python 3",
   "language": "python",
   "name": "python3"
  },
  "language_info": {
   "codemirror_mode": {
    "name": "ipython",
    "version": 3
   },
   "file_extension": ".py",
   "mimetype": "text/x-python",
   "name": "python",
   "nbconvert_exporter": "python",
   "pygments_lexer": "ipython3",
   "version": "3.8.10"
  }
 },
 "nbformat": 4,
 "nbformat_minor": 4
}
